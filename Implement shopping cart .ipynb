{
 "cells": [
  {
   "cell_type": "markdown",
   "metadata": {},
   "source": [
    "Implement shopping cart using list data structure and python functions.\n",
    " Add new item\n",
    " Remove item\n",
    " Rebuy previous item\n",
    " Apply discount coupon\n",
    " Generate bill"
   ]
  },
  {
   "cell_type": "code",
   "execution_count": null,
   "metadata": {},
   "outputs": [],
   "source": [
    "Shoplist=[]\n",
    "cost=0\n",
    "add = input('Want to add something to your shopping list? Y or N?')\n",
    "\n",
    "while add.lower() == \"y\":\n",
    "    item=str(input(\"Add item :\"))\n",
    "    price=int(input(\"Enter  cost of item \"))\n",
    "    Shoplist.append(item)\n",
    "    cost=(cost)+(price)\n",
    "    add = input(\"Want to add to your shopping list? Y or N\")\n",
    "    \n",
    "remove=input(\"Want to remove something to your shopping list? Y or N?\")\n",
    "\n",
    "while remove.lower() == \"y\":\n",
    "    item=str(input(\"Remove item ::\"))\n",
    "    price=int(input(\"Enter  cost of item \"))\n",
    "    rem=[]\n",
    "    rem.append(item)\n",
    "    Shoplist.remove(item)\n",
    "    cost=(cost)-(price)\n",
    "    remove = input(\"Want to remove to your shopping list? Y or N\")\n",
    "    "
   ]
  },
  {
   "cell_type": "code",
   "execution_count": null,
   "metadata": {},
   "outputs": [],
   "source": [
    "rebuy = input('Want to rebuy something to your shopping list? Y or N?')\n",
    "\n",
    "while rebuy.lower() == \"y\":\n",
    "    print(rem)\n",
    "    item=str(input(\"Add item :\"))\n",
    "    price=int(input(\"Enter  cost of item \"))\n",
    "    Shoplist.append(item)\n",
    "    cost=(cost)+(price)\n",
    "    rebuy = input(\"Want to add to your shopping list? Y or N\")"
   ]
  },
  {
   "cell_type": "code",
   "execution_count": null,
   "metadata": {},
   "outputs": [],
   "source": [
    "import random\n",
    "\n",
    "discount=input('Do you have any coupon code? Y or N')\n",
    "while discount.lower() == \"y\":\n",
    "    coupon=random.randint(1, 5)\n",
    "    choice=int(input('Enter your Coupon Number btw 1 to 5'))\n",
    "    if int(coupon) == int(choice):\n",
    "        print(\"dicount\")\n",
    "        total=(cost) * 0.1\n",
    "        cost=(cost)-(total)\n",
    "    else:\n",
    "        print(\"invalid coupone code\")\n",
    "        total=(cost) \n",
    "    break\n",
    "    \n",
    "\n",
    "\n"
   ]
  },
  {
   "cell_type": "code",
   "execution_count": null,
   "metadata": {},
   "outputs": [],
   "source": [
    "print()\n",
    "print(\"Here is your shopping list.\")\n",
    "for listitem in Shoplist:\n",
    "    print(listitem)\n",
    "    \n",
    "print('Your total bill is'+ ' ' + str(total) +' ' + 'Rs.')"
   ]
  },
  {
   "cell_type": "code",
   "execution_count": null,
   "metadata": {},
   "outputs": [],
   "source": []
  }
 ],
 "metadata": {
  "kernelspec": {
   "display_name": "Python 3",
   "language": "python",
   "name": "python3"
  },
  "language_info": {
   "codemirror_mode": {
    "name": "ipython",
    "version": 3
   },
   "file_extension": ".py",
   "mimetype": "text/x-python",
   "name": "python",
   "nbconvert_exporter": "python",
   "pygments_lexer": "ipython3",
   "version": "3.8.3"
  }
 },
 "nbformat": 4,
 "nbformat_minor": 4
}
